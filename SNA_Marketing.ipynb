{
 "cells": [
  {
   "cell_type": "markdown",
   "metadata": {},
   "source": [
    "# Importing Libraries"
   ]
  },
  {
   "cell_type": "code",
   "execution_count": 36,
   "metadata": {},
   "outputs": [],
   "source": [
    "import numpy as np\n",
    "import networkx as nx\n",
    "import matplotlib.pyplot as plt"
   ]
  },
  {
   "cell_type": "markdown",
   "metadata": {},
   "source": [
    "# Task 1: Creating a Directed Graph "
   ]
  },
  {
   "cell_type": "code",
   "execution_count": 37,
   "metadata": {},
   "outputs": [],
   "source": [
    "graph = nx.read_edgelist(\"connections.txt\", create_using=nx.DiGraph())"
   ]
  },
  {
   "cell_type": "markdown",
   "metadata": {},
   "source": [
    "# Task 2: Showing Bridge Nodes"
   ]
  },
  {
   "cell_type": "code",
   "execution_count": 18,
   "metadata": {},
   "outputs": [
    {
     "name": "stdout",
     "output_type": "stream",
     "text": [
      "[('0', '11'), ('0', '12'), ('0', '15'), ('0', '18'), ('0', '37'), ('0', '43'), ('0', '74'), ('0', '114'), ('0', '209'), ('0', '210'), ('0', '215'), ('0', '287'), ('0', '292'), ('0', '335'), ('107', '911'), ('107', '918'), ('107', '1096'), ('107', '1119'), ('107', '1145'), ('107', '1206'), ('107', '1386'), ('107', '1466'), ('107', '1560'), ('107', '1581'), ('107', '1834'), ('348', '358'), ('348', '447'), ('348', '550'), ('414', '585'), ('414', '602'), ('414', '607'), ('414', '608'), ('414', '613'), ('414', '624'), ('414', '638'), ('414', '668'), ('414', '674'), ('1684', '2842'), ('1684', '3031'), ('1684', '3071'), ('1684', '3183'), ('1684', '3230'), ('1912', '2079'), ('1912', '2195'), ('1912', '2269'), ('1912', '2457'), ('1912', '2470'), ('1912', '2569'), ('1912', '2596'), ('3437', '3451'), ('3437', '3453'), ('3437', '3570'), ('3437', '3650'), ('3437', '3709'), ('3437', '3729'), ('3437', '3748'), ('3437', '3798'), ('3437', '3820'), ('3437', '3853'), ('3437', '3856'), ('3437', '3935'), ('3437', '3974'), ('3980', '3984'), ('3980', '4008'), ('3980', '4010'), ('3980', '4015'), ('3980', '4022'), ('3980', '4024'), ('3980', '4035'), ('686', '692'), ('686', '801'), ('698', '875'), ('698', '883'), ('698', '891'), ('698', '892')]\n"
     ]
    }
   ],
   "source": [
    "# Convert to undirected graph\n",
    "graph_undirected = graph.to_undirected()\n",
    "bridges = list(nx.bridges(graph_undirected))\n",
    "print(bridges)"
   ]
  },
  {
   "cell_type": "markdown",
   "metadata": {},
   "source": [
    "# Task 3: Showing Density of the Graph"
   ]
  },
  {
   "cell_type": "code",
   "execution_count": 16,
   "metadata": {},
   "outputs": [
    {
     "name": "stdout",
     "output_type": "stream",
     "text": [
      "Graph Density: 0.0054099817517196435\n"
     ]
    }
   ],
   "source": [
    "print(f'Graph Density: {nx.density(graph)}')"
   ]
  },
  {
   "cell_type": "markdown",
   "metadata": {},
   "source": [
    "The density of a graph is a measure that indicates the proportion of potential edges in a graph that are actually present. It is a value between 0 and 1, where 0 represents a completely sparse graph (no edges) and 1 represents a fully connected graph (all possible edges are present).  \n",
    "The density of the graph is approximately 0.0054. This value is relatively low, indicating that the graph is sparse and has relatively few edges compared to the total number of possible edges. In other words, the low density suggests that there are many nodes with few connections. "
   ]
  },
  {
   "cell_type": "markdown",
   "metadata": {},
   "source": [
    "# Task 4: Showing nodes with highest and lowest number of connections"
   ]
  },
  {
   "cell_type": "code",
   "execution_count": 25,
   "metadata": {},
   "outputs": [
    {
     "name": "stdout",
     "output_type": "stream",
     "text": [
      "Maximum Degree: 1045\n",
      "Nodes with highest number of connections: ['107']\n",
      "\n",
      "Minimum Degree: 1\n",
      "Nodes with lowest number of connections: ['11', '12', '15', '18', '37', '43', '74', '114', '209', '210', '215', '287', '292', '335', '911', '918', '1096', '1119', '1145', '1206', '1386', '1466', '1560', '1581', '1834', '358', '447', '550', '585', '602', '607', '608', '613', '624', '638', '668', '674', '692', '801', '875', '883', '891', '892', '2842', '3031', '3071', '3183', '3230', '2079', '2195', '2269', '2457', '2470', '2569', '2596', '3451', '3453', '3570', '3650', '3709', '3729', '3748', '3798', '3820', '3853', '3856', '3935', '3974', '3984', '4008', '4010', '4015', '4022', '4024', '4035']\n"
     ]
    }
   ],
   "source": [
    "# Get the degree of each node in the graph\n",
    "node_degrees = graph.degree()\n",
    "\n",
    "# Find the maximum and minimum degrees in the graph\n",
    "max_degree = max(node_degrees, key=lambda x: x[1])[1]\n",
    "min_degree = min(node_degrees, key=lambda x: x[1])[1]\n",
    "\n",
    "# Find nodes with the maximum and minimum degrees\n",
    "nodes_with_max_degree = [node for node, degree in node_degrees if degree == max_degree]\n",
    "nodes_with_min_degree = [node for node, degree in node_degrees if degree == min_degree]\n",
    "\n",
    "print(f'Maximum Degree: {max_degree}')\n",
    "print(f'Nodes with highest number of connections: {nodes_with_max_degree}')\n",
    "print('')\n",
    "print(f'Minimum Degree: {min_degree}')\n",
    "print(f'Nodes with lowest number of connections: {nodes_with_min_degree}')"
   ]
  },
  {
   "cell_type": "markdown",
   "metadata": {},
   "source": [
    "# Task 5: Showing which nodes have the highest incoming and outgoing connections."
   ]
  },
  {
   "cell_type": "code",
   "execution_count": 28,
   "metadata": {},
   "outputs": [
    {
     "name": "stdout",
     "output_type": "stream",
     "text": [
      "Maximum In-Degree: 251\n",
      "Nodes with highest number of connections: ['1888']\n",
      "\n",
      "Minimum Out-Degree: 1043\n",
      "Nodes with lowest number of connections: ['107']\n"
     ]
    }
   ],
   "source": [
    "# Get the in-degree and out-degree of each node in the graph\n",
    "in_degrees = graph.in_degree()\n",
    "out_degrees = graph.out_degree()\n",
    "\n",
    "# Find the maximum and minimum in-degrees and out-degrees in the graph\n",
    "max_in_degree = max(in_degrees, key=lambda x: x[1])[1]\n",
    "max_out_degree = max(out_degrees, key=lambda x: x[1])[1]\n",
    "\n",
    "# Find nodes with the maximum and minimum in-degrees and out-degrees\n",
    "nodes_with_max_in_degree = [node for node, degree in in_degrees if degree == max_in_degree]\n",
    "nodes_with_max_out_degree = [node for node, degree in out_degrees if degree == max_out_degree]\n",
    "\n",
    "print(f'Maximum In-Degree: {max_in_degree}')\n",
    "print(f'Nodes with highest number of connections: {nodes_with_max_in_degree}')\n",
    "print('')\n",
    "print(f'Minimum Out-Degree: {max_out_degree}')\n",
    "print(f'Nodes with lowest number of connections: {nodes_with_max_out_degree}')"
   ]
  },
  {
   "cell_type": "markdown",
   "metadata": {},
   "source": [
    "# Task 6: Showing nodes with highest closeness, betweenness, and eigenvector. "
   ]
  },
  {
   "cell_type": "code",
   "execution_count": 33,
   "metadata": {},
   "outputs": [
    {
     "name": "stdout",
     "output_type": "stream",
     "text": [
      "Nodes with Maximum Closeness Centrality Value ( 0.11797503012816456 ): ['2642']\n",
      "==============================================================================\n",
      "Nodes with Maximum Betweenness Centrality Value ( 0.03299985344063623 ): ['1684']\n",
      "==============================================================================\n",
      "Nodes with Maximum Eigenvector Centrality Value ( 0.8027042996706522 ): ['2655']\n"
     ]
    }
   ],
   "source": [
    "# Measure Closeness Centrality\n",
    "closeness_centrality = nx.closeness_centrality(graph)\n",
    "max_closeness_value = max(closeness_centrality.values())\n",
    "nodes_with_max_closeness = [node for node, value in closeness_centrality.items() if value == max_closeness_value]\n",
    "\n",
    "# Measure Betweenness Centrality\n",
    "betweenness_centrality = nx.betweenness_centrality(graph)\n",
    "max_betweenness_value = max(betweenness_centrality.values())\n",
    "nodes_with_max_betweenness = [node for node, value in betweenness_centrality.items() if value == max_betweenness_value]\n",
    "\n",
    "# Measure Eigenvector Centrality\n",
    "eigenvector_centrality = nx.eigenvector_centrality(graph, max_iter = 500)\n",
    "max_eigenvector_value = max(eigenvector_centrality.values())\n",
    "nodes_with_max_eigenvector = [node for node, value in eigenvector_centrality.items() if value == max_eigenvector_value]\n",
    "\n",
    "# Print the results\n",
    "print(\"Nodes with Maximum Closeness Centrality Value (\", max_closeness_value, \"):\", nodes_with_max_closeness)\n",
    "print(\"==============================================================================\")\n",
    "print(\"Nodes with Maximum Betweenness Centrality Value (\", max_betweenness_value, \"):\", nodes_with_max_betweenness)\n",
    "print(\"==============================================================================\")\n",
    "print(\"Nodes with Maximum Eigenvector Centrality Value (\", max_eigenvector_value, \"):\", nodes_with_max_eigenvector)\n"
   ]
  },
  {
   "cell_type": "markdown",
   "metadata": {},
   "source": [
    "#### Closeness Centrality:\n",
    "* Node 2642 has the maximum closeness centrality value of approximately 0.118.\n",
    "* *Interpretation:* Node 2642 is particularly central in terms of closeness, indicating that it is relatively close to other nodes in the network. This could imply efficient information flow or influence spread from Node 2642 to other nodes.\n",
    "#### Betweenness Centrality:\n",
    "* Node 1684 has the maximum betweenness centrality value of approximately 0.033.\n",
    "* *Interpretation:* Node 1684 plays a crucial role in the network's communication flow. It acts as a key intermediary along many shortest paths between other nodes. Removing or influencing Node 1684 may significantly impact information flow in the network.\n",
    "#### Eigenvector Centrality:\n",
    "* Node 2655 has the maximum eigenvector centrality value of approximately 0.803.\n",
    "* *Interpretation:* Node 2655 is highly influential in the network according to eigenvector centrality. This measure considers not only direct connections but also the importance of nodes connected to Node 2655. Node 2655 is highly valuable in reaching other influential nodes in the network."
   ]
  },
  {
   "cell_type": "markdown",
   "metadata": {},
   "source": [
    "# Task 7: Implementing a Community Detection Algorithm on the Directed Graph "
   ]
  },
  {
   "cell_type": "code",
   "execution_count": 45,
   "metadata": {},
   "outputs": [
    {
     "name": "stdout",
     "output_type": "stream",
     "text": [
      "Number of Communities (Greedy Modularity Algorithm): 18\n"
     ]
    }
   ],
   "source": [
    "# Use Label Propagation Algorithm for community detection\n",
    "communities = list(nx.algorithms.community.greedy_modularity_communities(graph))\n",
    "\n",
    "# Get the number of communities\n",
    "num_communities = len(communities)\n",
    "\n",
    "# Print the number of communities\n",
    "print(\"Number of Communities (Greedy Modularity Algorithm):\", num_communities)\n"
   ]
  },
  {
   "cell_type": "markdown",
   "metadata": {},
   "source": [
    "# Task 8: Showing the largest and the smallest community"
   ]
  },
  {
   "cell_type": "code",
   "execution_count": 46,
   "metadata": {},
   "outputs": [
    {
     "name": "stdout",
     "output_type": "stream",
     "text": [
      "Largest community: 1053\n",
      "Smallest community: 3\n"
     ]
    }
   ],
   "source": [
    "largest_community = max(communities, key=len)\n",
    "smallest_community = min(communities, key=len)\n",
    "print(f'Largest community: {len(largest_community)}')\n",
    "print(f'Smallest community: {len(smallest_community)}')"
   ]
  },
  {
   "cell_type": "markdown",
   "metadata": {},
   "source": [
    "#### Largest Community:\n",
    "\n",
    "The largest community consists of 1053 nodes. This suggests that a substantial portion of the network is tightly interconnected. Members within this community likely have numerous connections with each other, potentially indicating a cohesive group, a densely connected subgroup, or a central hub within the network.\n",
    "\n",
    "#### Smallest Community:\n",
    "\n",
    "The smallest community comprises only 3 nodes. This indicates a smaller, more isolated group within the network. It could represent a subgroup with specific characteristics or connections, or it might be an outlier with fewer connections compared to the rest of the network. "
   ]
  }
 ],
 "metadata": {
  "kernelspec": {
   "display_name": "Python 3 (ipykernel)",
   "language": "python",
   "name": "python3"
  },
  "language_info": {
   "codemirror_mode": {
    "name": "ipython",
    "version": 3
   },
   "file_extension": ".py",
   "mimetype": "text/x-python",
   "name": "python",
   "nbconvert_exporter": "python",
   "pygments_lexer": "ipython3",
   "version": "3.8.18"
  }
 },
 "nbformat": 4,
 "nbformat_minor": 4
}
